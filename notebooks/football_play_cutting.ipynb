{
 "cells": [
  {
   "cell_type": "code",
   "id": "31b4eb2a",
   "metadata": {
    "ExecuteTime": {
     "end_time": "2025-07-05T13:00:01.542831Z",
     "start_time": "2025-07-05T12:59:00.875667Z"
    }
   },
   "source": [
    "import os, subprocess, re, glob\n",
    "\n",
    "# ---------------------------------------------------------------------------\n",
    "# config\n",
    "SCENE_THRESHOLD   = 0.25   # ffmpeg scene-change sensitivity\n",
    "MIN_PLAY_SECONDS  = 3      # ignore clips shorter than this\n",
    "MAX_CLIPS         = 5      # stop after first 5 clips (test run)\n",
    "SNAP_AT           = 0.5    # first JPEG at 0.5 s into clip\n",
    "SNAP_STEP         = 0.4    # spacing between JPEGs\n",
    "NUM_SNAP_FRAMES   = 3\n",
    "OUT_DIR           = \"cuts\"\n",
    "os.makedirs(OUT_DIR, exist_ok=True)\n",
    "\n",
    "# ---------------------------------------------------------------------------\n",
    "def scene_cuts(video, thr=SCENE_THRESHOLD):\n",
    "    r = subprocess.run(\n",
    "        ['ffmpeg','-i',video,'-vf',f\"select='gt(scene,{thr})',showinfo\",\n",
    "         '-f','null','-'],\n",
    "        stderr=subprocess.PIPE, text=True)\n",
    "    return sorted(float(t) for t in re.findall(r'pts_time:(\\d+\\.\\d+)', r.stderr))\n",
    "\n",
    "def video_len(video):\n",
    "    d = subprocess.check_output(\n",
    "        ['ffprobe','-v','error','-show_entries','format=duration',\n",
    "         '-of','default=nk=1:nw=1',video], text=True)\n",
    "    return float(d.strip())\n",
    "\n",
    "def cut_play(src, start, end, idx, plays_dir):\n",
    "    out = os.path.join(plays_dir, f'play_{idx:03}.mp4')\n",
    "    subprocess.run(['ffmpeg','-y','-ss',str(start),'-t',str(end-start),\n",
    "                    '-i',src,'-c','copy',out],\n",
    "                   stdout=subprocess.DEVNULL, stderr=subprocess.DEVNULL)\n",
    "    return out\n",
    "\n",
    "def snap_frames_ffmpeg(clip, snaps_dir):\n",
    "    base = os.path.splitext(os.path.basename(clip))[0]\n",
    "    for i in range(NUM_SNAP_FRAMES):\n",
    "        t = SNAP_AT + i * SNAP_STEP\n",
    "        subprocess.run(['ffmpeg','-y','-ss',f'{t}','-i',clip,\n",
    "                        '-frames:v','1',\n",
    "                        os.path.join(snaps_dir, f'{base}_snap{i+1}.jpg')],\n",
    "                       stdout=subprocess.DEVNULL, stderr=subprocess.DEVNULL)\n",
    "\n",
    "# ---------------------------------------------------------------------------\n",
    "clip_total = 0\n",
    "for video in glob.glob(\"*.mp4\"):\n",
    "    if clip_total >= MAX_CLIPS:\n",
    "        break\n",
    "\n",
    "    base = os.path.splitext(os.path.basename(video))[0]\n",
    "    match_dir  = os.path.join(OUT_DIR, base)\n",
    "    plays_dir  = os.path.join(match_dir, \"plays\")\n",
    "    snaps_dir  = os.path.join(match_dir, \"snaps\")\n",
    "    os.makedirs(plays_dir,  exist_ok=True)\n",
    "    os.makedirs(snaps_dir, exist_ok=True)\n",
    "\n",
    "    cuts  = scene_cuts(video)\n",
    "    times = [0.0] + cuts + [video_len(video)]\n",
    "\n",
    "    play_idx = 1\n",
    "    for s, e in zip(times[:-1], times[1:]):\n",
    "        if e - s < MIN_PLAY_SECONDS:\n",
    "            continue\n",
    "        clip_total += 1\n",
    "        clip_path = cut_play(video, s, e, play_idx, plays_dir)\n",
    "        snap_frames_ffmpeg(clip_path, snaps_dir)\n",
    "        play_idx += 1\n",
    "        if clip_total >= MAX_CLIPS:\n",
    "            break\n",
    "\n",
    "print(f\"Done: {clip_total} clip(s) + {clip_total * NUM_SNAP_FRAMES} JPEG(s). ✅\")"
   ],
   "outputs": [
    {
     "name": "stdout",
     "output_type": "stream",
     "text": [
      "Done: 5 clip(s) + 15 JPEG(s). ✅\n"
     ]
    }
   ],
   "execution_count": 10
  }
 ],
 "metadata": {
  "kernelspec": {
   "display_name": "football",
   "language": "python",
   "name": "python3"
  },
  "language_info": {
   "codemirror_mode": {
    "name": "ipython",
    "version": 3
   },
   "file_extension": ".py",
   "mimetype": "text/x-python",
   "name": "python",
   "nbconvert_exporter": "python",
   "pygments_lexer": "ipython3",
   "version": "3.13.3"
  }
 },
 "nbformat": 4,
 "nbformat_minor": 5
}
